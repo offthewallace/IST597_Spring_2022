{
  "cells": [
    {
      "cell_type": "code",
      "execution_count": 1,
      "metadata": {
        "id": "_iYcla4kCX67"
      },
      "outputs": [],
      "source": [
        "import os\n",
        "import numpy as np\n",
        "import time\n",
        "import tensorflow as tf\n",
        "from tensorflow import keras\n",
        "\n",
        "import matplotlib.pyplot as plt\n",
        "\n",
        "\n",
        "np.random.seed(1234)\n",
        "tf.random.set_seed(1234)"
      ]
    },
    {
      "cell_type": "code",
      "execution_count": 2,
      "metadata": {
        "colab": {
          "base_uri": "https://localhost:8080/"
        },
        "id": "Kgna3kY6CX67",
        "outputId": "63933134-c527-421f-a201-12cfc616fdce"
      },
      "outputs": [
        {
          "output_type": "execute_result",
          "data": {
            "text/plain": [
              "[]"
            ]
          },
          "metadata": {},
          "execution_count": 2
        }
      ],
      "source": [
        "tf.config.list_physical_devices('GPU')"
      ]
    },
    {
      "cell_type": "code",
      "execution_count": 3,
      "metadata": {
        "colab": {
          "base_uri": "https://localhost:8080/",
          "height": 358
        },
        "id": "JodgHy9nCX68",
        "outputId": "deca98eb-4e27-4dfa-d92f-e73664af27a4"
      },
      "outputs": [
        {
          "output_type": "stream",
          "name": "stdout",
          "text": [
            "Downloading data from https://storage.googleapis.com/tensorflow/tf-keras-datasets/train-labels-idx1-ubyte.gz\n",
            "32768/29515 [=================================] - 0s 0us/step\n",
            "40960/29515 [=========================================] - 0s 0us/step\n",
            "Downloading data from https://storage.googleapis.com/tensorflow/tf-keras-datasets/train-images-idx3-ubyte.gz\n",
            "26427392/26421880 [==============================] - 0s 0us/step\n",
            "26435584/26421880 [==============================] - 0s 0us/step\n",
            "Downloading data from https://storage.googleapis.com/tensorflow/tf-keras-datasets/t10k-labels-idx1-ubyte.gz\n",
            "16384/5148 [===============================================================================================] - 0s 0us/step\n",
            "Downloading data from https://storage.googleapis.com/tensorflow/tf-keras-datasets/t10k-images-idx3-ubyte.gz\n",
            "4423680/4422102 [==============================] - 0s 0us/step\n",
            "4431872/4422102 [==============================] - 0s 0us/step\n"
          ]
        },
        {
          "output_type": "display_data",
          "data": {
            "text/plain": [
              "<Figure size 432x288 with 3 Axes>"
            ],
            "image/png": "[encoded data removed]"
          },
          "metadata": {
            "needs_background": "light"
          }
        }
      ],
      "source": [
        "(X_train, y_train), (X_test, y_test) = keras.datasets.fashion_mnist.load_data() # Load MNIST or FMNIST\n",
        "assert X_train.shape == (60000, 28, 28)\n",
        "assert X_test.shape == (10000, 28, 28)\n",
        "assert y_train.shape == (60000,)\n",
        "assert y_test.shape == (10000,)\n",
        "\n",
        "\n",
        "# Display randomly selected data\n",
        "indices = list(np.random.randint(X_train.shape[0],size=3))\n",
        "for i in range(3):\n",
        "    plt.subplot(1,3,i+1)\n",
        "    plt.imshow(X_train[indices[i]].reshape(28,28), cmap='gray', interpolation='none')\n",
        "    plt.title(\"Index {} Class {}\".format(indices[i], y_train[indices[i]]))\n",
        "    plt.tight_layout()"
      ]
    },
    {
      "cell_type": "markdown",
      "source": [
        "# Important\n",
        "* Always have a validation set, the procedure to create validation or dev set is by performing random sample without replacement on train set and then only using that fraction as dev set. \n",
        "* Simple approach is to set some K samples, you can extract them from start, mid or end.\n",
        "* Imagine validation set that partially approximates test set distribution and we assume our model would produce identical results when we test it on test set.\n",
        "* Always optimize your hyperparameters by looking at performance on validation set and not test set.\n",
        "* Do not touch test set, we have this to test how our model would work on unseen data."
      ],
      "metadata": {
        "id": "PowjAHuw-wm7"
      }
    },
    {
      "cell_type": "code",
      "execution_count": 4,
      "metadata": {
        "colab": {
          "base_uri": "https://localhost:8080/"
        },
        "id": "oIRI-uLoCX69",
        "outputId": "a4fbeae1-52f0-4af8-9ad6-0d996b782e9a"
      },
      "outputs": [
        {
          "output_type": "stream",
          "name": "stdout",
          "text": [
            "size of training set is 50000 samples\n",
            "every train example is 28 by 28\n",
            "size of validation set is 10000 samples\n",
            "every validation example is 28 by 28\n",
            "size of training set is 50000 samples\n",
            "every train example has 784 features\n",
            "size of validation set is 10000 samples\n",
            "every validation example has 784 features\n"
          ]
        }
      ],
      "source": [
        "# Split train dataset into train and validation\n",
        "X_val = X_train[50000:60000]\n",
        "X_train = X_train[0:50000]\n",
        "y_val = y_train[50000:60000]\n",
        "y_train = y_train[0:50000]\n",
        "\n",
        "print(\"size of training set is\", str(X_train.shape[0]), \"samples\")\n",
        "print(\"every train example is\", str(X_train.shape[1]), \"by\", str(X_train.shape[2]))\n",
        "\n",
        "print(\"size of validation set is\", str(X_val.shape[0]), \"samples\")\n",
        "print(\"every validation example is\", str(X_val.shape[1]), \"by\", str(X_val.shape[2]))\n",
        "\n",
        "X_train = X_train.reshape(50000, 28*28)\n",
        "X_val = X_val.reshape(10000, 28*28)\n",
        "X_test = X_test.reshape(10000, 28*28)\n",
        "\n",
        "print(\"size of training set is\", str(X_train.shape[0]), \"samples\")\n",
        "print(\"every train example has\", str(X_train.shape[1]), \"features\")\n",
        "\n",
        "print(\"size of validation set is\", str(X_val.shape[0]), \"samples\")\n",
        "print(\"every validation example has\", str(X_val.shape[1]), \"features\")\n",
        "\n",
        "# Split dataset into batches\n",
        "#train_ds = tf.data.Dataset.from_tensor_slices((X_train, y_train)).batch(16)\n",
        "#test_ds = tf.data.Dataset.from_tensor_slices((X_test, y_test)).batch(4)"
      ]
    },
    {
      "cell_type": "markdown",
      "source": [
        "# Points to remember\n",
        "* If using any type of neural network, normalize your input between 0-1.\n",
        "* One can use various procedures to achieve this, divide by largest value (for images we use 255), subtract mean from data and then normalize, one can even augment them and use other steps for normalization.\n",
        "* Normalization is important step, one could observe significant boost in performance just by having better normalization scheme.\n",
        "* For targets we always use one-hot encodings."
      ],
      "metadata": {
        "id": "VdMEIaFKAscU"
      }
    },
    {
      "cell_type": "code",
      "execution_count": 5,
      "metadata": {
        "colab": {
          "base_uri": "https://localhost:8080/"
        },
        "id": "mDyZ8bZjCX69",
        "outputId": "ff4601c7-924f-4015-9804-2c6144c62512"
      },
      "outputs": [
        {
          "output_type": "execute_result",
          "data": {
            "text/plain": [
              "1.0"
            ]
          },
          "metadata": {},
          "execution_count": 5
        }
      ],
      "source": [
        "#Normalize Data\n",
        "\n",
        "X_train = X_train/255\n",
        "X_val = X_val/255\n",
        "X_test = X_test/255\n",
        "# X_train[0]\n",
        "np.max(X_train)"
      ]
    },
    {
      "cell_type": "code",
      "execution_count": 6,
      "metadata": {
        "colab": {
          "base_uri": "https://localhost:8080/"
        },
        "id": "3lIIy313CX69",
        "outputId": "0087ec58-9a11-4da8-be1b-657768deed3f"
      },
      "outputs": [
        {
          "output_type": "stream",
          "name": "stdout",
          "text": [
            "tf.Tensor([10000    10], shape=(2,), dtype=int32)\n"
          ]
        }
      ],
      "source": [
        "size_input = X_train.shape[1]\n",
        "size_hidden1 = 128\n",
        "size_hidden2 = 128\n",
        "size_hidden3 = 128\n",
        "size_output = 10\n",
        "\n",
        "number_of_train_examples = X_train.shape[0]\n",
        "number_of_test_examples = X_test.shape[0]\n",
        "\n",
        "y_train = tf.keras.utils.to_categorical(y_train, num_classes=10) # Other function is tf.one_hot(y_train,depth=10)\n",
        "y_val = tf.keras.utils.to_categorical(y_val, num_classes=10)\n",
        "y_test = tf.keras.utils.to_categorical(y_test, num_classes=10)\n",
        "print(tf.shape(y_val))"
      ]
    },
    {
      "cell_type": "code",
      "source": [
        "#from https://d2l.ai/chapter_convolutional-modern/batch-norm.html\n",
        "def batch_norm(X, gamma, beta, moving_mean, moving_var, eps):\n",
        "    # Compute reciprocal of square root of the moving variance elementwise\n",
        "    inv = tf.cast(tf.math.rsqrt(moving_var + eps), X.dtype)\n",
        "    # Scale and shift\n",
        "    inv *= gamma\n",
        "    Y = X * inv + (beta - moving_mean * inv)\n",
        "    return Y"
      ],
      "metadata": {
        "id": "_RRrUca_YOfQ"
      },
      "execution_count": 7,
      "outputs": []
    },
    {
      "cell_type": "markdown",
      "source": [
        "# Importance of weight initialization\n",
        "\n",
        "* One reason backprop based models can perform bettter lies with the weight initialization method, one important point one should remember is that, if yur weights are initialized to be too high or low, backprop would struggle.\n",
        "* Hence one should always carefully initialize weights of your model, below i have shown approach with random_normal, one can use random_uniform, truncated version of both, Xavier init and orthogonal. \n",
        "* You will find modern day NNs have achieved stable and better performance by simply switching to better init and majority of cases Xavier or Orthogonal works best.\n",
        "* Always initialize your bias using zero or some small constant (ideally 0.01 or less works better). We use bias to shift the activation and in some cases it can stabalize learning, but having large bias can cause negative results.\n",
        "\n",
        "# Loss function\n",
        "\n",
        "* We will always cross-entropy loss for classification.\n",
        "\n",
        "* tf softmax,\n",
        "loss= tf.reduce_mean(tf.nn.softmax_cross_entropy_with_logits(logits=y_pred_tf, labels=y_true_tf)), this function is simply saying that it will calculate softmax for you, simply provide logits to it. \n",
        "\n",
        "* In other output of your forward pass directly goes this function. Now this operator will calculate or apply softmax over prediction or logits and calculate cross-entropy between prediction and target. I am using reduce_mean since we apply this over batches.\n",
        "* Second is using keras\n",
        "Method 1 :- This function requires logits, hence same as above you will pass logits or output variable to this function. Now remember you need from_logits = True, for this to work.\n",
        "cce = tf.keras.losses.CategoricalCrossentropy(from_logits=True)\n",
        "loss_x = cce(y_true_tf, y_pred_tf) \n",
        "\n",
        "* Method 2:- In this we will apply softmax to output function and then pass to CCE loss.\n",
        "So the approach is \n",
        "output = tf.nn.softmax(output)\n",
        "cce = tf.keras.losses.CategoricalCrossentropy(from_logits=False)\n",
        "loss_x = cce(y_true_tf, y_pred_tf) "
      ],
      "metadata": {
        "id": "U7KCVarVCVPW"
      }
    },
    {
      "cell_type": "code",
      "execution_count": 8,
      "metadata": {
        "id": "obN7WPLpCX69"
      },
      "outputs": [],
      "source": [
        "# Define class to build mlp model\n",
        "#intialize BN varible from https://d2l.ai/chapter_convolutional-modern/batch-norm.html\n",
        "class MLP(object):\n",
        " def __init__(self, size_input, size_hidden1, size_hidden2, size_hidden3, size_output, device=None):\n",
        "    \"\"\"\n",
        "    size_input: int, size of input layer\n",
        "    size_hidden1: int, size of the 1st hidden layer\n",
        "    size_hidden2: int, size of the 2nd hidden layer\n",
        "    size_output: int, size of output layer\n",
        "    device: str or None, either 'cpu' or 'gpu' or None. If None, the device to be used will be decided automatically during Eager Execution\n",
        "    \"\"\"\n",
        "    self.size_input, self.size_hidden1, self.size_hidden2, self.size_hidden3, self.size_output, self.device =\\\n",
        "    size_input, size_hidden1, size_hidden2, size_hidden3, size_output, device\n",
        "    \n",
        "    # Initialize weights between input mapping and a layer g(f(x)) = layer\n",
        "    self.W1 = tf.Variable(tf.random.normal([self.size_input, self.size_hidden1],stddev=0.1)) # Xavier(Fan-in fan-out) and Orthogonal\n",
        "    # Initialize biases for hidden layer\n",
        "    self.b1 = tf.Variable(tf.zeros([1, self.size_hidden1])) # 0 or constant(0.01)\n",
        "    #self.gamma = self.add_weight(name='gamma', shape=weight_shape,initializer=tf.initializers.ones, trainable=True)\n",
        "    self.gamma1= tf.Variable(tf.ones([1, self.size_hidden1]))\n",
        "    self.beta1=tf.Variable(tf.zeros([1, self.size_hidden1]))\n",
        "\n",
        "\n",
        "    # Initialize weights between input layer and 1st hidden layer\n",
        "    self.W2 = tf.Variable(tf.random.normal([self.size_hidden1, self.size_hidden2],stddev=0.1))\n",
        "    # Initialize biases for hidden layer\n",
        "    self.b2 = tf.Variable(tf.zeros([1, self.size_hidden2]))\n",
        "    self.gamma2= tf.Variable(tf.ones([1, self.size_hidden2]))\n",
        "    self.beta2=tf.Variable(tf.zeros([1, self.size_hidden2]))\n",
        "    \n",
        "    # Initialize weights between 1st hidden layer and 2nd hidden layer\n",
        "    self.W3 = tf.Variable(tf.random.normal([self.size_hidden2, self.size_hidden3],stddev=0.1))\n",
        "    # Initialize biases for hidden layer\n",
        "    self.b3 = tf.Variable(tf.zeros([1, self.size_hidden3]))\n",
        "    self.gamma3= tf.Variable(tf.ones([1, self.size_hidden2]))\n",
        "    self.beta3=tf.Variable(tf.zeros([1, self.size_hidden2]))\n",
        "    \n",
        "     # Initialize weights between 2nd hidden layer and output layer\n",
        "    self.W4 = tf.Variable(tf.random.normal([self.size_hidden3, self.size_output],stddev=0.1))\n",
        "    # Initialize biases for output layer\n",
        "    self.b4 = tf.Variable(tf.zeros([1, self.size_output]))\n",
        "    \n",
        "    # Define variables to be updated during backpropagation\n",
        "    self.variables = [self.W1, self.W2, self.W3, self.W4, self.b1, self.b2, self.b3, self.b4,self.gamma1,self.gamma2,self.gamma3,self.beta1,self.beta2,self.beta3]\n",
        "    #self.moving_mean = self.add_weight(name='moving_mean',shape=weight_shape, initializer=tf.initializers.zeros,trainable=False)\n",
        "    self.mean1=tf.Variable(tf.zeros([1, self.size_hidden1]))\n",
        "    self.mean2=tf.Variable(tf.zeros([1, self.size_hidden1]))\n",
        "    self.mean3=tf.Variable(tf.zeros([1, self.size_hidden1]))\n",
        "    self.var1=tf.Variable(tf.ones([1, self.size_hidden1]))\n",
        "    self.var2=tf.Variable(tf.ones([1, self.size_hidden1]))\n",
        "    self.var3=tf.Variable(tf.ones([1, self.size_hidden1]))\n",
        "    self.eps=1e-5\n",
        "\n",
        "\n",
        " def forward(self, X,is_train):\n",
        "    \"\"\"\n",
        "    forward pass\n",
        "    X: Tensor, inputs\n",
        "    \"\"\"\n",
        "    if self.device is not None:\n",
        "      with tf.device('gpu:0' if self.device=='gpu' else 'cpu'):\n",
        "        self.y = self.compute_output(X,is_train)\n",
        "    else:\n",
        "      self.y = self.compute_output(X,is_train)\n",
        "      \n",
        "    return self.y\n",
        "\n",
        " def loss(self, y_pred, y_true):\n",
        "    '''\n",
        "    y_pred - Tensor of shape (batch_size, size_output)\n",
        "    y_true - Tensor of shape (batch_size, size_output)\n",
        "    '''\n",
        "    #y_true_tf = tf.cast(tf.reshape(y_true, (-1, self.size_output)), dtype=tf.float32)\n",
        "    y_true_tf = tf.cast(y_true, dtype=tf.float32)\n",
        "    y_pred_tf = tf.cast(y_pred, dtype=tf.float32)\n",
        "    cce = tf.keras.losses.CategoricalCrossentropy(from_logits=True)\n",
        "    loss_x = cce(y_true_tf, y_pred_tf)\n",
        "    # Use keras or tf_softmax, both should work for any given model\n",
        "    #loss_x = tf.reduce_mean(tf.nn.softmax_cross_entropy_with_logits(logits=y_pred_tf, labels=y_true_tf))\n",
        "    \n",
        "    return loss_x\n",
        "\n",
        " def backward(self, X_train, y_train, opti):\n",
        "    \"\"\"\n",
        "    backward pass\n",
        "    \"\"\"\n",
        "    optimizer = opti\n",
        "    \n",
        "    with tf.GradientTape() as tape:\n",
        "        \n",
        "      predicted = self.forward(X_train,True)\n",
        "      current_loss = self.loss(predicted, y_train)\n",
        "        \n",
        "    grads = tape.gradient(current_loss, self.variables)\n",
        "    optimizer.apply_gradients(zip(grads, self.variables))\n",
        "           \n",
        " def compute_output(self, X,is_train=False):\n",
        "    \"\"\"\n",
        "    Custom method to obtain output tensor during forward pass\n",
        "    \"\"\"\n",
        "    # Cast X to float32\n",
        "    if is_train:\n",
        "      X_tf = tf.cast(X, dtype=tf.float32)\n",
        "      #X_tf = X\n",
        "      \n",
        "      # Compute values in hidden layers\n",
        "      z1 = tf.matmul(X_tf, self.W1) + self.b1\n",
        "      #BN1\n",
        "      axes1 = list(range(len(z1.shape) - 1))\n",
        "      mean1=tf.math.reduce_mean(z1, axes1, keepdims=True)\n",
        "      var1=tf.math.reduce_variance(z1, axes1, keepdims=True)\n",
        "      self.mean1.assign(mean1)\n",
        "      self.var1.assign(var1)\n",
        "      z1=batch_norm(z1, self.gamma1, self.beta1, mean1, var1, self.eps)\n",
        "      h1 = tf.nn.relu(z1)\n",
        "      \n",
        "      z2 = tf.matmul(h1, self.W2) + self.b2\n",
        "      #BN2\n",
        "      axes2 = list(range(len(z2.shape) - 1))\n",
        "      mean2=tf.math.reduce_mean(z2, axes2, keepdims=True)\n",
        "      var2=tf.math.reduce_variance(z2, axes2, keepdims=True)\n",
        "      z2=batch_norm(z2, self.gamma2, self.beta2, mean2, var2, self.eps)\n",
        "      self.mean2.assign(mean2)\n",
        "      self.var2.assign(var2)\n",
        "      h2 = tf.nn.relu(z2)\n",
        "      \n",
        "      z3 = tf.matmul(h2, self.W3) + self.b3\n",
        "      #BN3\n",
        "      axes3 = list(range(len(z3.shape) - 1))\n",
        "      mean3=tf.math.reduce_mean(z3, axes3, keepdims=True)\n",
        "      var3=tf.math.reduce_variance(z3, axes3, keepdims=True)\n",
        "      z3=batch_norm(z3, self.gamma3, self.beta3, mean3, var3, self.eps)\n",
        "      self.mean3.assign(mean3)\n",
        "      self.var3.assign(var3)\n",
        "\n",
        "      h3 = tf.nn.relu(z3)\n",
        "\n",
        "      # Compute output\n",
        "      output = tf.matmul(h3, self.W4) + self.b4\n",
        "      \n",
        "      #Now consider two things , First look at inbuild loss functions if they work with softmax or not and then change this \n",
        "      # Second add tf.Softmax(output) and then return this variable\n",
        "      return (output)\n",
        "    else:\n",
        "      X_tf = tf.cast(X, dtype=tf.float32)\n",
        "      #X_tf = X\n",
        "      \n",
        "      # Compute values in hidden layers\n",
        "      z1 = tf.matmul(X_tf, self.W1) + self.b1\n",
        "      #BN1\n",
        "      z1=batch_norm(z1, self.gamma1, self.beta1, self.mean1, self.var1, self.eps)\n",
        "      h1 = tf.nn.relu(z1)\n",
        "      \n",
        "      z2 = tf.matmul(h1, self.W2) + self.b2\n",
        "      #BN2\n",
        "      z2=batch_norm(z2, self.gamma2, self.beta2, self.mean2, self.var2, self.eps)\n",
        "      h2 = tf.nn.relu(z2)\n",
        "      \n",
        "      z3 = tf.matmul(h2, self.W3) + self.b3\n",
        "      #BN3\n",
        "      z3=batch_norm(z3, self.gamma3, self.beta3, self.mean3, self.var3, self.eps)\n",
        "      h3 = tf.nn.relu(z3)\n",
        "\n",
        "      # Compute output\n",
        "      output = tf.matmul(h3, self.W4) + self.b4\n",
        "      \n",
        "      #Now consider two things , First look at inbuild loss functions if they work with softmax or not and then change this \n",
        "      # Second add tf.Softmax(output) and then return this variable\n",
        "      return (output)\n",
        "\n",
        "#  def stderr(self,y_pred):\n",
        "#     \"\"\"\n",
        "#      Calculate standard error\n",
        "#      \"\"\"\n",
        "#     y_pred_tf = tf.cast(y_pred, dtype=tf.float32)\n",
        "#     std_dev = np.std(y_pred_tf) #Calculates standard deviation\n",
        "#     std_err = std_dev/sqrt(len(y_pred_tf))\n",
        "#     return std_err \n",
        "\n",
        "\n",
        "#  def var(self,y_pred):\n",
        "#     \"\"\"\n",
        "#      Calculate variance \n",
        "#      \"\"\"\n",
        "#     y_pred_tf = tf.cast(y_pred, dtype=tf.float32)\n",
        "#     std_dev = np.std(y_pred_tf) #Calculates standard deviation\n",
        "#     variance = (std_dev**2) # calculate variance\n",
        "#     return variance \n",
        "\n"
      ]
    },
    {
      "cell_type": "code",
      "execution_count": 11,
      "metadata": {
        "colab": {
          "base_uri": "https://localhost:8080/",
          "height": 1000
        },
        "id": "pOnhvVlUCX6-",
        "outputId": "824f0a9e-fc77-4bf9-e7d3-608d076a4eb5"
      },
      "outputs": [
        {
          "output_type": "stream",
          "name": "stdout",
          "text": [
            "\n",
            "Train Accuracy: 0.8390\n",
            "Number of Epoch = 1 - Average Cross Entropy:= 0.004380841369628906 \n",
            "\n",
            "Validation Accuracy: 0.8318\n",
            "\n",
            "Train Accuracy: 0.8613\n",
            "Number of Epoch = 2 - Average Cross Entropy:= 0.0030230865478515626 \n",
            "\n",
            "Validation Accuracy: 0.8448\n",
            "\n",
            "Train Accuracy: 0.8773\n",
            "Number of Epoch = 3 - Average Cross Entropy:= 0.00267111572265625 \n",
            "\n",
            "Validation Accuracy: 0.8570\n",
            "\n",
            "Train Accuracy: 0.8784\n",
            "Number of Epoch = 4 - Average Cross Entropy:= 0.002435360107421875 \n",
            "\n",
            "Validation Accuracy: 0.8565\n",
            "\n",
            "Train Accuracy: 0.8820\n",
            "Number of Epoch = 5 - Average Cross Entropy:= 0.002262662506103516 \n",
            "\n",
            "Validation Accuracy: 0.8555\n",
            "\n",
            "Train Accuracy: 0.8959\n",
            "Number of Epoch = 6 - Average Cross Entropy:= 0.002116636047363281 \n",
            "\n",
            "Validation Accuracy: 0.8629\n",
            "\n",
            "Train Accuracy: 0.8903\n",
            "Number of Epoch = 7 - Average Cross Entropy:= 0.001988415069580078 \n",
            "\n",
            "Validation Accuracy: 0.8544\n",
            "\n",
            "Train Accuracy: 0.9049\n",
            "Number of Epoch = 8 - Average Cross Entropy:= 0.0018685957336425781 \n",
            "\n",
            "Validation Accuracy: 0.8649\n",
            "\n",
            "Train Accuracy: 0.8978\n",
            "Number of Epoch = 9 - Average Cross Entropy:= 0.0017635447692871094 \n",
            "\n",
            "Validation Accuracy: 0.8607\n",
            "\n",
            "Train Accuracy: 0.9090\n",
            "Number of Epoch = 10 - Average Cross Entropy:= 0.0016605656433105469 \n",
            "\n",
            "Validation Accuracy: 0.8634\n",
            "\n",
            "Test Accuracy: 0.86\n",
            "\n",
            "Total time taken (in seconds): 187.68\n",
            "\n",
            "Train Accuracy: 0.8483\n",
            "Number of Epoch = 1 - Average Cross Entropy:= 0.004306844787597656 \n",
            "\n",
            "Validation Accuracy: 0.8408\n",
            "\n",
            "Train Accuracy: 0.8631\n",
            "Number of Epoch = 2 - Average Cross Entropy:= 0.0030100234985351564 \n",
            "\n",
            "Validation Accuracy: 0.8512\n",
            "\n",
            "Train Accuracy: 0.8787\n",
            "Number of Epoch = 3 - Average Cross Entropy:= 0.0026659237670898436 \n",
            "\n",
            "Validation Accuracy: 0.8626\n",
            "\n",
            "Train Accuracy: 0.8847\n",
            "Number of Epoch = 4 - Average Cross Entropy:= 0.0024405049133300783 \n",
            "\n",
            "Validation Accuracy: 0.8668\n",
            "\n",
            "Train Accuracy: 0.8873\n",
            "Number of Epoch = 5 - Average Cross Entropy:= 0.002261021270751953 \n",
            "\n",
            "Validation Accuracy: 0.8644\n",
            "\n",
            "Train Accuracy: 0.9002\n",
            "Number of Epoch = 6 - Average Cross Entropy:= 0.0021140748596191407 \n",
            "\n",
            "Validation Accuracy: 0.8708\n",
            "\n",
            "Train Accuracy: 0.8950\n",
            "Number of Epoch = 7 - Average Cross Entropy:= 0.001974598846435547 \n",
            "\n",
            "Validation Accuracy: 0.8633\n",
            "\n",
            "Train Accuracy: 0.8949\n",
            "Number of Epoch = 8 - Average Cross Entropy:= 0.0018751211547851563 \n",
            "\n",
            "Validation Accuracy: 0.8585\n",
            "\n",
            "Train Accuracy: 0.9122\n",
            "Number of Epoch = 9 - Average Cross Entropy:= 0.0017707418823242188 \n",
            "\n",
            "Validation Accuracy: 0.8722\n",
            "\n",
            "Train Accuracy: 0.9192\n",
            "Number of Epoch = 10 - Average Cross Entropy:= 0.0016858724975585937 \n",
            "\n",
            "Validation Accuracy: 0.8770\n",
            "\n",
            "Test Accuracy: 0.87\n",
            "\n",
            "Total time taken (in seconds): 183.16\n",
            "\n",
            "Train Accuracy: 0.8426\n",
            "Number of Epoch = 1 - Average Cross Entropy:= 0.004291038818359375 \n",
            "\n",
            "Validation Accuracy: 0.8324\n",
            "\n",
            "Train Accuracy: 0.8621\n",
            "Number of Epoch = 2 - Average Cross Entropy:= 0.003015153503417969 \n",
            "\n",
            "Validation Accuracy: 0.8454\n",
            "\n",
            "Train Accuracy: 0.8724\n",
            "Number of Epoch = 3 - Average Cross Entropy:= 0.002678919982910156 \n",
            "\n",
            "Validation Accuracy: 0.8560\n",
            "\n",
            "Train Accuracy: 0.8870\n",
            "Number of Epoch = 4 - Average Cross Entropy:= 0.0024539292907714842 \n",
            "\n",
            "Validation Accuracy: 0.8653\n",
            "\n",
            "Train Accuracy: 0.8885\n",
            "Number of Epoch = 5 - Average Cross Entropy:= 0.002289385223388672 \n",
            "\n",
            "Validation Accuracy: 0.8625\n",
            "\n",
            "Train Accuracy: 0.8866\n",
            "Number of Epoch = 6 - Average Cross Entropy:= 0.002134710388183594 \n",
            "\n",
            "Validation Accuracy: 0.8626\n",
            "\n",
            "Train Accuracy: 0.8944\n",
            "Number of Epoch = 7 - Average Cross Entropy:= 0.002004418487548828 \n",
            "\n",
            "Validation Accuracy: 0.8638\n",
            "\n",
            "Train Accuracy: 0.9041\n",
            "Number of Epoch = 8 - Average Cross Entropy:= 0.0019027494812011718 \n",
            "\n",
            "Validation Accuracy: 0.8666\n",
            "\n",
            "Train Accuracy: 0.9023\n",
            "Number of Epoch = 9 - Average Cross Entropy:= 0.001817625274658203 \n",
            "\n",
            "Validation Accuracy: 0.8664\n",
            "\n",
            "Train Accuracy: 0.9072\n",
            "Number of Epoch = 10 - Average Cross Entropy:= 0.001721955108642578 \n",
            "\n",
            "Validation Accuracy: 0.8661\n",
            "\n",
            "Test Accuracy: 0.86\n",
            "\n",
            "Total time taken (in seconds): 169.65\n"
          ]
        },
        {
          "output_type": "display_data",
          "data": {
            "text/plain": [
              "<Figure size 432x288 with 1 Axes>"
            ],
            "image/png": "[encoded data removed]"
          },
          "metadata": {
            "needs_background": "light"
          }
        }
      ],
      "source": [
        "# Set number of epochs\n",
        "NUM_EPOCHS = 10\n",
        "\n",
        "# Initialize model using CPU\n",
        "totalTestAcc=[]\n",
        "#trails={}\n",
        "for i in range(3):\n",
        "  tf.random.set_seed(i+100)\n",
        "\n",
        "\n",
        "  mlp_on_cpu = MLP(size_input, size_hidden1, size_hidden2, size_hidden3, size_output, device='gpu')\n",
        "\n",
        "  time_start = time.time()\n",
        "  opti = tf.keras.optimizers.SGD(learning_rate = 0.1)\n",
        "  accuracy_list=[]\n",
        "  for epoch in range(NUM_EPOCHS):\n",
        "      \n",
        "    loss_total = tf.zeros([1,1], dtype=tf.float32)\n",
        "    lt = 0\n",
        "      \n",
        "    train_ds = tf.data.Dataset.from_tensor_slices((X_train, y_train)).shuffle(25, seed=epoch*(1234)).batch(128)\n",
        "    kz = 0\n",
        "    accuracy_z = 0.0\n",
        "    cur_train_acc = 0.0\n",
        "    for inputs, outputs in train_ds:\n",
        "      qw, tr = tf.shape(inputs)\n",
        "      kz = kz + 1\n",
        "      preds = mlp_on_cpu.forward(inputs,False) \n",
        "      loss_total = loss_total + mlp_on_cpu.loss(preds, outputs)\n",
        "      lt = lt + mlp_on_cpu.loss(preds, outputs)\n",
        "      mlp_on_cpu.backward(inputs, outputs, opti)\n",
        "\n",
        "    preds = mlp_on_cpu.forward(X_train,False)\n",
        "    # Get probs, remember we only have logits from our forward function, we need to apply softmax on top of it to get probs\n",
        "    preds = tf.nn.softmax(preds)\n",
        "    correct_prediction = tf.equal(tf.argmax(preds, 1), tf.argmax(y_train, 1))\n",
        "    accuracy_z = accuracy_z + tf.reduce_mean(tf.cast(correct_prediction, \"float\"))\n",
        "    cur_train_acc += accuracy_z.numpy()\n",
        "    ds = cur_train_acc\n",
        "    print('\\nTrain Accuracy: {:.4f}'.format(ds))\n",
        "    print('Number of Epoch = {} - Average Cross Entropy:= {} '.format(epoch + 1, np.sum(loss_total) / X_train.shape[0]))\n",
        "    preds_val = mlp_on_cpu.forward(X_val,False)\n",
        "    preds_val = tf.nn.softmax(preds_val)\n",
        "    correct_prediction = tf.equal(tf.argmax(preds_val, 1), tf.argmax(y_val, 1))\n",
        "\n",
        "    # Calculate accuracy\n",
        "    accuracy = tf.reduce_mean(tf.cast(correct_prediction, \"float\"))\n",
        "    cur_val_acc = accuracy.numpy()\n",
        "    #accuracy_list.append(cur_val_acc)\n",
        "    print('\\nValidation Accuracy: {:.4f}'.format(cur_val_acc))\n",
        "    \n",
        "    plt.plot(epoch + 1, np.sum(loss_total) / X_train.shape[0], 'go')\n",
        "\n",
        "          \n",
        "  time_taken = time.time() - time_start\n",
        "      \n",
        "  # Validate model\n",
        "  preds_test = mlp_on_cpu.forward(X_test,False)\n",
        "  preds_test = tf.nn.softmax(preds_test)\n",
        "  correct_test_prediction = tf.equal(tf.argmax(preds_test, 1), tf.argmax(y_test, 1))\n",
        "\n",
        "  # Calculate accuracy\n",
        "  accuracy = tf.reduce_mean(tf.cast(correct_test_prediction, \"float\"))\n",
        "  cur_test_acc = accuracy.numpy()\n",
        "  print('\\nTest Accuracy: {:.2f}'.format(cur_test_acc))\n",
        "  totalTestAcc.append(cur_test_acc)\n",
        "  print('\\nTotal time taken (in seconds): {:.2f}'.format(time_taken))\n",
        "  #For per epoch_time = Total_Time / Number_of_epochs\n"
      ]
    },
    {
      "cell_type": "code",
      "source": [
        "totalTestAcc_avg=np.mean(totalTestAcc)\n",
        "var=np.var(totalTestAcc)\n",
        "time1=187.68\n",
        "time2=183.16\n",
        "time3=169.65\n",
        "avgtime=(time1+time2+time3)/3\n",
        "print(f\"the test Acc_avg of custom optimizer is {totalTestAcc_avg}, and the variance is {var},the average time is {avgtime}\")"
      ],
      "metadata": {
        "colab": {
          "base_uri": "https://localhost:8080/"
        },
        "id": "Hvy0IOx-QqWS",
        "outputId": "55319caf-8a06-431d-8342-039eb1fd6fa5"
      },
      "execution_count": 14,
      "outputs": [
        {
          "output_type": "stream",
          "name": "stdout",
          "text": [
            "the test Acc_avg of custom optimizer is 0.8632333278656006, and the variance is 6.5622793954389635e-06,the average time is 180.16333333333333\n"
          ]
        }
      ]
    }
  ],
  "metadata": {
    "kernelspec": {
      "display_name": "Python 3",
      "language": "python",
      "name": "python3"
    },
    "language_info": {
      "codemirror_mode": {
        "name": "ipython",
        "version": 3
      },
      "file_extension": ".py",
      "mimetype": "text/x-python",
      "name": "python",
      "nbconvert_exporter": "python",
      "pygments_lexer": "ipython3",
      "version": "3.7.9"
    },
    "colab": {
      "name": "MLP_pre_BN.ipynb",
      "provenance": [],
      "collapsed_sections": []
    }
  },
  "nbformat": 4,
  "nbformat_minor": 0
}